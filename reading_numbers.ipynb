{
 "cells": [
  {
   "cell_type": "markdown",
   "metadata": {},
   "source": [
    "* Write a function that outputs the transcription of an input number with two digits.\n",
    "\n",
    "* Example:\n",
    "\n",
    "* 28---------------->Twenty Eight"
   ]
  },
  {
   "cell_type": "code",
   "execution_count": 1,
   "metadata": {},
   "outputs": [],
   "source": [
    "reading1=['','One','Two','Three','Four','Five','Six','Seven','Eight','Nine']\n",
    "reading2=['Twenty','Thirty','Forty','Fifty','Sixty','Seventy','Eighty','Ninety']\n",
    "reading3=['Ten','Eleven','Twelve','Thirteen','Fourteen','Fifteen','Sixteen','Seventeen','Eighteen','Nineteen']\n",
    "def reading_numb(x):\n",
    "    if x.isdigit()==False:\n",
    "        read= x\n",
    "    elif int(x)<10 or int(x)>99:\n",
    "        read= x\n",
    "    elif 20>int(x)>=10:\n",
    "        read='{}--------->{}'.format(x,reading3[int(x[1])])\n",
    "        \n",
    "    else:\n",
    "        read='{}--------->{} {}'.format(x,reading2[int(x[0])-2],reading1[int(x[1])])\n",
    "    return read\n"
   ]
  },
  {
   "cell_type": "code",
   "execution_count": 2,
   "metadata": {},
   "outputs": [
    {
     "name": "stdout",
     "output_type": "stream",
     "text": [
      "29--------->Twenty Nine\n"
     ]
    }
   ],
   "source": [
    "print(reading_numb(input(\"A number only with two digits: \")))"
   ]
  },
  {
   "cell_type": "code",
   "execution_count": null,
   "metadata": {},
   "outputs": [],
   "source": []
  }
 ],
 "metadata": {
  "kernelspec": {
   "display_name": "Python 3.8.5 64-bit ('base': conda)",
   "name": "python385jvsc74a57bd0054e6073c53ecefb2cc966210e656e13c3a3c774a68778f6cdf25d7c37e20456"
  },
  "language_info": {
   "codemirror_mode": {
    "name": "ipython",
    "version": 3
   },
   "file_extension": ".py",
   "mimetype": "text/x-python",
   "name": "python",
   "nbconvert_exporter": "python",
   "pygments_lexer": "ipython3",
   "version": "3.8.5"
  },
  "orig_nbformat": 2
 },
 "nbformat": 4,
 "nbformat_minor": 2
}