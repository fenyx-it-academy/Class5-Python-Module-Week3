{
 "cells": [
  {
   "cell_type": "markdown",
   "metadata": {},
   "source": [
    "## Bonus Question 1\n",
    "[HACKERRANK: FIND DIGITS](https://www.hackerrank.com/challenges/find-digits/problem)"
   ]
  },
  {
   "cell_type": "code",
   "execution_count": 6,
   "metadata": {},
   "outputs": [],
   "source": [
    "def findDigits(n):\n",
    "    n=str(n)\n",
    "    l=len(n)\n",
    "    summ=0\n",
    "    for i in range(l):\n",
    "        if int(n[i])==0:\n",
    "            continue\n",
    "        elif int(n)%int(n[i])==0:\n",
    "            summ+=1\n",
    "    return summ"
   ]
  },
  {
   "cell_type": "markdown",
   "metadata": {},
   "source": [
    "## Bonus Question 2\n",
    "[HACKERRANK: CAPITALIZE](https://www.hackerrank.com/challenges/capitalize/problem)"
   ]
  },
  {
   "cell_type": "code",
   "execution_count": 9,
   "metadata": {},
   "outputs": [
    {
     "data": {
      "text/plain": "'Chris Alan'"
     },
     "execution_count": 9,
     "metadata": {},
     "output_type": "execute_result"
    }
   ],
   "source": [
    "def solve(s):\n",
    "    s=s.split(' ')\n",
    "    for i in range(len(s)):\n",
    "        if s[i]=='':\n",
    "            continue\n",
    "        s[i]=s[i][0].capitalize()+s[i][1:]\n",
    "    s=' '.join([str(item) for item in s])\n",
    "    return s\n",
    "solve('chris alan')"
   ]
  }
 ],
 "metadata": {
  "kernelspec": {
   "display_name": "Python 3.8.5 64-bit ('base': conda)",
   "name": "python385jvsc74a57bd0054e6073c53ecefb2cc966210e656e13c3a3c774a68778f6cdf25d7c37e20456"
  },
  "language_info": {
   "codemirror_mode": {
    "name": "ipython",
    "version": 3
   },
   "file_extension": ".py",
   "mimetype": "text/x-python",
   "name": "python",
   "nbconvert_exporter": "python",
   "pygments_lexer": "ipython3",
   "version": "3.8.5"
  },
  "orig_nbformat": 2
 },
 "nbformat": 4,
 "nbformat_minor": 2
}