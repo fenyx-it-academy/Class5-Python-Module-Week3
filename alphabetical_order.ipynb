{
 "cells": [
  {
   "cell_type": "markdown",
   "metadata": {},
   "source": [
    "* Write a function that takes an input of different words with hyphen (-) in between them and then:<br />\n",
    "* sorts the words in alphabetical order,\n",
    "* adds hyphen icon (-) between them, \n",
    "* gives the output of the sorted words.\n",
    "\n",
    "* Example:\n",
    "* Input  >>> green-red-yellow-black-white\n",
    "* Output >>> black-green-red-white-yellow "
   ]
  },
  {
   "cell_type": "code",
   "execution_count": 3,
   "metadata": {},
   "outputs": [
    {
     "name": "stdout",
     "output_type": "stream",
     "text": [
      "black-green-red-white-yellow\n"
     ]
    }
   ],
   "source": [
    "def alphabetical_order():\n",
    "    words=input(\"Words with -  : \")\n",
    "    words=words.split('-')\n",
    "    words.sort()\n",
    "    words='-'.join(words)\n",
    "    return words\n",
    "print(alphabetical_order())"
   ]
  },
  {
   "cell_type": "code",
   "execution_count": null,
   "metadata": {},
   "outputs": [],
   "source": []
  }
 ],
 "metadata": {
  "kernelspec": {
   "display_name": "Python 3.8.5 64-bit ('base': conda)",
   "name": "python385jvsc74a57bd0054e6073c53ecefb2cc966210e656e13c3a3c774a68778f6cdf25d7c37e20456"
  },
  "language_info": {
   "codemirror_mode": {
    "name": "ipython",
    "version": 3
   },
   "file_extension": ".py",
   "mimetype": "text/x-python",
   "name": "python",
   "nbconvert_exporter": "python",
   "pygments_lexer": "ipython3",
   "version": "3.8.5"
  },
  "orig_nbformat": 2
 },
 "nbformat": 4,
 "nbformat_minor": 2
}